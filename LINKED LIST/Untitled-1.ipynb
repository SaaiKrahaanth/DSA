{
 "cells": [
  {
   "cell_type": "code",
   "execution_count": 11,
   "metadata": {},
   "outputs": [
    {
     "ename": "TypeError",
     "evalue": "node.length() takes 1 positional argument but 2 were given",
     "output_type": "error",
     "traceback": [
      "\u001b[1;31m---------------------------------------------------------------------------\u001b[0m",
      "\u001b[1;31mTypeError\u001b[0m                                 Traceback (most recent call last)",
      "Cell \u001b[1;32mIn[11], line 17\u001b[0m\n\u001b[0;32m     15\u001b[0m head\u001b[38;5;241m.\u001b[39mnext\u001b[38;5;241m=\u001b[39mnode(\u001b[38;5;241m6\u001b[39m)\n\u001b[0;32m     16\u001b[0m head\u001b[38;5;241m.\u001b[39mnext\u001b[38;5;241m.\u001b[39mnext\u001b[38;5;241m=\u001b[39mnode(\u001b[38;5;241m7\u001b[39m)\n\u001b[1;32m---> 17\u001b[0m \u001b[38;5;28mprint\u001b[39m(\u001b[43mhead\u001b[49m\u001b[38;5;241;43m.\u001b[39;49m\u001b[43mlength\u001b[49m\u001b[43m(\u001b[49m\u001b[43mhead\u001b[49m\u001b[43m)\u001b[49m)\n",
      "\u001b[1;31mTypeError\u001b[0m: node.length() takes 1 positional argument but 2 were given"
     ]
    }
   ],
   "source": [
    "class node:\n",
    "    def __init__(self,new_data):\n",
    "        self.data=new_data\n",
    "        self.next=None\n",
    "    def length(head):\n",
    "        curr=head\n",
    "        count=0\n",
    "        while curr is not None:\n",
    "            count+=1\n",
    "            curr=curr.next\n",
    "\n",
    "        return count\n",
    "if __name__==\"__main__\":\n",
    "    head=node(5)\n",
    "    head.next=node(6)\n",
    "    head.next.next=node(7)\n",
    "    print(head.length(head))"
   ]
  }
 ],
 "metadata": {
  "kernelspec": {
   "display_name": "Python 3",
   "language": "python",
   "name": "python3"
  },
  "language_info": {
   "codemirror_mode": {
    "name": "ipython",
    "version": 3
   },
   "file_extension": ".py",
   "mimetype": "text/x-python",
   "name": "python",
   "nbconvert_exporter": "python",
   "pygments_lexer": "ipython3",
   "version": "3.11.1"
  }
 },
 "nbformat": 4,
 "nbformat_minor": 2
}
